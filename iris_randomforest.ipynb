{
 "cells": [
  {
   "cell_type": "markdown",
   "metadata": {},
   "source": [
    "Randomforestで特徴量抽出"
   ]
  },
  {
   "cell_type": "code",
   "execution_count": null,
   "metadata": {},
   "outputs": [],
   "source": [
    "# 私用するライブライ等のインポート\n",
    "from sklearn.model_selection import train_test_split\n",
    "from sklearn.datasets import load_iris\n",
    "from sklearn.metrics import accuracy_score\n",
    "from sklearn.model_selection import train_test_split\n",
    "from sklearn.ensemble import RandomForestClassifier\n",
    "\n",
    "import pandas as pd\n",
    "import numpy as np\n",
    "import matplotlib.pyplot as plt"
   ]
  },
  {
   "cell_type": "code",
   "execution_count": null,
   "metadata": {},
   "outputs": [],
   "source": [
    "# irisデータセットを読み込む \n",
    "iris = load_iris()\n",
    "\n",
    "# 説明変数\n",
    "x = iris.data\n",
    "# 目的変数\n",
    "y = iris.target"
   ]
  },
  {
   "cell_type": "code",
   "execution_count": null,
   "metadata": {},
   "outputs": [],
   "source": [
    "# pandas DataFrameに変換し説明変数の中身を確認\n",
    "pd_iris_data = pd.DataFrame(x,columns = iris.feature_names)\n",
    "print(pd_iris_data)\n",
    "\n",
    "#同様に目的変数の中身を確認\n",
    "pd_iris_target = pd.DataFrame(y,columns=['target'])\n",
    "print(pd_iris_target.head(100))"
   ]
  },
  {
   "cell_type": "code",
   "execution_count": null,
   "metadata": {},
   "outputs": [],
   "source": [
    "# テストデータ\n",
    "X_train, X_valid, y_train, y_valid = train_test_split(x, y, test_size=0.5, random_state=42)\n",
    "\n",
    "# モデル構築\n",
    "rfc = RandomForestClassifier()\n",
    "\n",
    "#  モデルに学習させる\n",
    "rfc.fit(X_train, y_train)\n",
    "\n",
    "#\n",
    "print('Train Score: {}'.format(round(rfc.score(X_train, y_train), 3)))\n",
    "print(' Test Score: {}'.format(round(rfc.score(X_valid, y_valid), 3)))"
   ]
  },
  {
   "cell_type": "code",
   "execution_count": null,
   "metadata": {},
   "outputs": [],
   "source": [
    "# 特徴量の重要度\n",
    "feature = rfc.feature_importances_\n",
    "# 特徴量の名前\n",
    "label = pd_iris_data.columns[0:]\n",
    "# 特徴量の重要度順(降順)\n",
    "# argosortは基準となる行または列のインデックスを取得し、それに従って行・列を並べ替える\n",
    "# 今回はfeatureの行を基準に降順に並べ替え、カラムを作成\n",
    "indices = np.argsort(feature)[::1]"
   ]
  },
  {
   "cell_type": "code",
   "execution_count": null,
   "metadata": {},
   "outputs": [],
   "source": [
    "# グラフをプロット\n",
    "# rangeは引数で指定した開始数から終了数までの連続した数値を要素として持ち、今回は特徴量の各カラムの合計を引数とする\n",
    "x = range(len(feature))\n",
    "#特徴量(feature)を降順に並べ替えたもの \n",
    "y = feature[indices]\n",
    "# labelにindicesを追加\n",
    "y_label = label[indices]\n",
    "\n",
    "# plt.barh()で横向きのグラフを生成\n",
    "plt.barh(x, y, align = 'center')\n",
    "# y軸の現在の目盛りの位置とラベルを設定 \n",
    "plt.yticks(x, y_label)\n",
    "# x軸、y軸にラベルを設定\n",
    "plt.xlabel(\"importance_num\")\n",
    "plt.ylabel(\"label\")\n",
    "#グラフを出力\n",
    "plt.show()"
   ]
  }
 ],
 "metadata": {
  "kernelspec": {
   "display_name": "Python 3",
   "language": "python",
   "name": "python3"
  },
  "language_info": {
   "codemirror_mode": {
    "name": "ipython",
    "version": 3
   },
   "file_extension": ".py",
   "mimetype": "text/x-python",
   "name": "python",
   "nbconvert_exporter": "python",
   "pygments_lexer": "ipython3",
   "version": "3.7.4"
  }
 },
 "nbformat": 4,
 "nbformat_minor": 4
}
