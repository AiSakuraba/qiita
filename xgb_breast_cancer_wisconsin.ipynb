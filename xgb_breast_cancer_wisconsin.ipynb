{
 "cells": [
  {
   "cell_type": "markdown",
   "metadata": {},
   "source": [
    "初心者のためのXGBoostを使った実装"
   ]
  },
  {
   "cell_type": "code",
   "execution_count": null,
   "metadata": {},
   "outputs": [],
   "source": [
    "import xgboost as xgb\n",
    "\n",
    "from sklearn.model_selection import train_test_split\n",
    "from sklearn.datasets import load_breast_cancer\n",
    "from sklearn.metrics import accuracy_score\n",
    "\n",
    "import pandas as pd\n",
    "import numpy as np\n",
    "import matplotlib.pyplot as plt"
   ]
  },
  {
   "cell_type": "code",
   "execution_count": null,
   "metadata": {},
   "outputs": [],
   "source": [
    "#データセットを読み込み\n",
    "cancer = load_breast_cancer()\n",
    "#概要の表示\n",
    "print(cancer.DESCR)"
   ]
  },
  {
   "cell_type": "code",
   "execution_count": null,
   "metadata": {},
   "outputs": [],
   "source": [
    "# 説明変数と目的変数に分離\n",
    "X = cancer.data\n",
    "y = cancer.target"
   ]
  },
  {
   "cell_type": "code",
   "execution_count": null,
   "metadata": {},
   "outputs": [],
   "source": [
    "#説明変数をpandasに変換しカラムの中身を確認\n",
    "explanatory_variable = pd.DataFrame(X,columns=cancer.feature_names)\n",
    "explanatory_variable"
   ]
  },
  {
   "cell_type": "code",
   "execution_count": null,
   "metadata": {},
   "outputs": [],
   "source": [
    "#目的変数をpandasに変換しカラムの中身を確認\n",
    "response_variable = pd.DataFrame(y,columns=['target'])\n",
    "response_variable"
   ]
  },
  {
   "cell_type": "code",
   "execution_count": null,
   "metadata": {},
   "outputs": [],
   "source": [
    "#訓練データとテストデータに分割\n",
    "X_train, X_test, Y_train, Y_test = train_test_split(X, y, test_size=0.2)\n",
    "\n",
    "# XGBoost が扱うデータセットの形式に直す\n",
    "# feature_namesには特徴量の可視化のため、カラム名を渡しておく。\n",
    "xgb_train = xgb.DMatrix(X_train, label=Y_train, feature_names=cancer.feature_names)\n",
    "xgb_test = xgb.DMatrix(X_test, label=Y_test, feature_names=cancer.feature_names)"
   ]
  },
  {
   "cell_type": "code",
   "execution_count": null,
   "metadata": {},
   "outputs": [],
   "source": [
    "#Booster Parameters(ブースターパラメータ)の設定\n",
    "param = {\n",
    "    # 二値分類問題\n",
    "    'objective': 'binary:logistic',  \n",
    "} \n",
    "#モデルを学習する\n",
    "model = xgb.train(param, xgb_train)"
   ]
  },
  {
   "cell_type": "code",
   "execution_count": null,
   "metadata": {
    "scrolled": true
   },
   "outputs": [],
   "source": [
    "#検証用データが各クラスに分類される確率を計算する\n",
    "y_pred_proba = model.predict(xgb_test)\n",
    "#検証用データの中身確認\n",
    "print(y_pred_proba)"
   ]
  },
  {
   "cell_type": "code",
   "execution_count": null,
   "metadata": {},
   "outputs": [],
   "source": [
    "# しきい値 0.5 で 0, 1 に丸める\n",
    "y_pred = np.where(y_pred_proba > 0.5, 1, 0)"
   ]
  },
  {
   "cell_type": "code",
   "execution_count": null,
   "metadata": {},
   "outputs": [],
   "source": [
    "#精度(Accuracy(正解率))を検証する\n",
    "acc = accuracy_score(Y_test, y_pred)\n",
    "print(acc)"
   ]
  },
  {
   "cell_type": "code",
   "execution_count": null,
   "metadata": {},
   "outputs": [],
   "source": [
    "#学習させたモデルから特徴量を確認\n",
    "fig, ax1 = plt.subplots(figsize=(8,15))\n",
    "xgb.plot_importance(model, ax=ax1)\n",
    "plt.show()\n",
    "#グラフをpngに出力\n",
    "fig.savefig(\"FeatureImportance.png\")"
   ]
  }
 ],
 "metadata": {
  "kernelspec": {
   "display_name": "Python 3",
   "language": "python",
   "name": "python3"
  },
  "language_info": {
   "codemirror_mode": {
    "name": "ipython",
    "version": 3
   },
   "file_extension": ".py",
   "mimetype": "text/x-python",
   "name": "python",
   "nbconvert_exporter": "python",
   "pygments_lexer": "ipython3",
   "version": "3.7.4"
  }
 },
 "nbformat": 4,
 "nbformat_minor": 2
}
